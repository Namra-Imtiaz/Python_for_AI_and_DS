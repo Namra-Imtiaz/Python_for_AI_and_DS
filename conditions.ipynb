{
 "cells": [
  {
   "cell_type": "markdown",
   "id": "a9c9983a",
   "metadata": {},
   "source": [
    "if condition:\n",
    "    expression"
   ]
  },
  {
   "cell_type": "code",
   "execution_count": 1,
   "id": "a4fbd704",
   "metadata": {},
   "outputs": [
    {
     "name": "stdout",
     "output_type": "stream",
     "text": [
      "z is even\n"
     ]
    }
   ],
   "source": [
    "z=4\n",
    "if(z%2==0):\n",
    "    print(\"z is even\")"
   ]
  },
  {
   "cell_type": "code",
   "execution_count": 2,
   "id": "dd941216",
   "metadata": {},
   "outputs": [
    {
     "name": "stdout",
     "output_type": "stream",
     "text": [
      "z is odd\n"
     ]
    }
   ],
   "source": [
    "z=5\n",
    "if(z%2==0):\n",
    "    print('z is even')\n",
    "else:\n",
    "    print('z is odd')"
   ]
  },
  {
   "cell_type": "code",
   "execution_count": 6,
   "id": "bde57175",
   "metadata": {},
   "outputs": [
    {
     "name": "stdout",
     "output_type": "stream",
     "text": [
      "z is not divisible by either 2 or 3\n"
     ]
    }
   ],
   "source": [
    "z=4.5\n",
    "if(z%2==0):\n",
    "    print('z is divisible by 2')\n",
    "elif(z%3==0):\n",
    "    print('z is divisible by 3')\n",
    "else:\n",
    "    print('z is not divisible by either 2 or 3')"
   ]
  },
  {
   "cell_type": "markdown",
   "id": "149bb408",
   "metadata": {},
   "source": [
    "When you pass a Series of True/False values to a DataFrame's selection operator ([]), pandas goes through the DataFrame row by row. It keeps a row if the corresponding value in the Series is True and discards it if the value is False."
   ]
  },
  {
   "cell_type": "code",
   "execution_count": 7,
   "id": "5558d07e",
   "metadata": {},
   "outputs": [
    {
     "name": "stdout",
     "output_type": "stream",
     "text": [
      "     country capital  population\n",
      "BR    brazil       a           1\n",
      "RU    russia       b           2\n",
      "IN     india       c           3\n",
      "PA  pakistan       d           4\n"
     ]
    }
   ],
   "source": [
    "import pandas as pd\n",
    "df = pd.read_csv('data.csv',index_col=0)\n",
    "print(df)"
   ]
  },
  {
   "cell_type": "code",
   "execution_count": 9,
   "id": "3b0bc10a",
   "metadata": {},
   "outputs": [
    {
     "data": {
      "text/plain": [
       "BR    False\n",
       "RU    False\n",
       "IN     True\n",
       "PA     True\n",
       "Name: population, dtype: bool"
      ]
     },
     "execution_count": 9,
     "metadata": {},
     "output_type": "execute_result"
    }
   ],
   "source": [
    "df['population']>2"
   ]
  },
  {
   "cell_type": "code",
   "execution_count": 10,
   "id": "14daa030",
   "metadata": {},
   "outputs": [
    {
     "data": {
      "text/html": [
       "<div>\n",
       "<style scoped>\n",
       "    .dataframe tbody tr th:only-of-type {\n",
       "        vertical-align: middle;\n",
       "    }\n",
       "\n",
       "    .dataframe tbody tr th {\n",
       "        vertical-align: top;\n",
       "    }\n",
       "\n",
       "    .dataframe thead th {\n",
       "        text-align: right;\n",
       "    }\n",
       "</style>\n",
       "<table border=\"1\" class=\"dataframe\">\n",
       "  <thead>\n",
       "    <tr style=\"text-align: right;\">\n",
       "      <th></th>\n",
       "      <th>country</th>\n",
       "      <th>capital</th>\n",
       "      <th>population</th>\n",
       "    </tr>\n",
       "  </thead>\n",
       "  <tbody>\n",
       "    <tr>\n",
       "      <th>IN</th>\n",
       "      <td>india</td>\n",
       "      <td>c</td>\n",
       "      <td>3</td>\n",
       "    </tr>\n",
       "    <tr>\n",
       "      <th>PA</th>\n",
       "      <td>pakistan</td>\n",
       "      <td>d</td>\n",
       "      <td>4</td>\n",
       "    </tr>\n",
       "  </tbody>\n",
       "</table>\n",
       "</div>"
      ],
      "text/plain": [
       "     country capital  population\n",
       "IN     india       c           3\n",
       "PA  pakistan       d           4"
      ]
     },
     "execution_count": 10,
     "metadata": {},
     "output_type": "execute_result"
    }
   ],
   "source": [
    "df[df['population']>2]"
   ]
  },
  {
   "cell_type": "code",
   "execution_count": 12,
   "id": "dce98d37",
   "metadata": {},
   "outputs": [
    {
     "data": {
      "text/html": [
       "<div>\n",
       "<style scoped>\n",
       "    .dataframe tbody tr th:only-of-type {\n",
       "        vertical-align: middle;\n",
       "    }\n",
       "\n",
       "    .dataframe tbody tr th {\n",
       "        vertical-align: top;\n",
       "    }\n",
       "\n",
       "    .dataframe thead th {\n",
       "        text-align: right;\n",
       "    }\n",
       "</style>\n",
       "<table border=\"1\" class=\"dataframe\">\n",
       "  <thead>\n",
       "    <tr style=\"text-align: right;\">\n",
       "      <th></th>\n",
       "      <th>country</th>\n",
       "      <th>capital</th>\n",
       "      <th>population</th>\n",
       "    </tr>\n",
       "  </thead>\n",
       "  <tbody>\n",
       "    <tr>\n",
       "      <th>IN</th>\n",
       "      <td>india</td>\n",
       "      <td>c</td>\n",
       "      <td>3</td>\n",
       "    </tr>\n",
       "  </tbody>\n",
       "</table>\n",
       "</div>"
      ],
      "text/plain": [
       "   country capital  population\n",
       "IN   india       c           3"
      ]
     },
     "execution_count": 12,
     "metadata": {},
     "output_type": "execute_result"
    }
   ],
   "source": [
    "import numpy as np\n",
    "df[np.logical_and(df['population']>2,df['population']<4)]"
   ]
  },
  {
   "cell_type": "code",
   "execution_count": 13,
   "id": "30803662",
   "metadata": {},
   "outputs": [
    {
     "data": {
      "text/plain": [
       "np.int64(10)"
      ]
     },
     "execution_count": 13,
     "metadata": {},
     "output_type": "execute_result"
    }
   ],
   "source": [
    "np.sum(df['population'])"
   ]
  },
  {
   "cell_type": "code",
   "execution_count": 15,
   "id": "31841a2f",
   "metadata": {},
   "outputs": [
    {
     "data": {
      "text/plain": [
       "dtype('int64')"
      ]
     },
     "execution_count": 15,
     "metadata": {},
     "output_type": "execute_result"
    }
   ],
   "source": [
    "df['population'].dtype"
   ]
  },
  {
   "cell_type": "code",
   "execution_count": null,
   "id": "0d222f91",
   "metadata": {},
   "outputs": [],
   "source": []
  }
 ],
 "metadata": {
  "kernelspec": {
   "display_name": "Python 3",
   "language": "python",
   "name": "python3"
  },
  "language_info": {
   "codemirror_mode": {
    "name": "ipython",
    "version": 3
   },
   "file_extension": ".py",
   "mimetype": "text/x-python",
   "name": "python",
   "nbconvert_exporter": "python",
   "pygments_lexer": "ipython3",
   "version": "3.13.3"
  }
 },
 "nbformat": 4,
 "nbformat_minor": 5
}
