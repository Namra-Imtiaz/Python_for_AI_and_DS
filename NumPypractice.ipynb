{
 "cells": [
  {
   "cell_type": "code",
   "execution_count": 1,
   "id": "2a114f69",
   "metadata": {},
   "outputs": [],
   "source": [
    "import numpy as np"
   ]
  },
  {
   "cell_type": "code",
   "execution_count": 3,
   "id": "99939698",
   "metadata": {},
   "outputs": [],
   "source": [
    "data = np.arange(1,100,2)"
   ]
  },
  {
   "cell_type": "code",
   "execution_count": 7,
   "id": "6b2fc956",
   "metadata": {},
   "outputs": [
    {
     "data": {
      "text/plain": [
       "50"
      ]
     },
     "execution_count": 7,
     "metadata": {},
     "output_type": "execute_result"
    }
   ],
   "source": [
    "data.size"
   ]
  },
  {
   "cell_type": "code",
   "execution_count": 8,
   "id": "19ff84bd",
   "metadata": {},
   "outputs": [
    {
     "data": {
      "text/plain": [
       "(50,)"
      ]
     },
     "execution_count": 8,
     "metadata": {},
     "output_type": "execute_result"
    }
   ],
   "source": [
    "data.shape"
   ]
  },
  {
   "cell_type": "code",
   "execution_count": 10,
   "id": "37aedbe6",
   "metadata": {},
   "outputs": [
    {
     "data": {
      "text/plain": [
       "array([[ 1,  3,  5,  7,  9, 11, 13, 15, 17, 19],\n",
       "       [21, 23, 25, 27, 29, 31, 33, 35, 37, 39],\n",
       "       [41, 43, 45, 47, 49, 51, 53, 55, 57, 59],\n",
       "       [61, 63, 65, 67, 69, 71, 73, 75, 77, 79],\n",
       "       [81, 83, 85, 87, 89, 91, 93, 95, 97, 99]])"
      ]
     },
     "execution_count": 10,
     "metadata": {},
     "output_type": "execute_result"
    }
   ],
   "source": [
    "data.reshape(5,10)"
   ]
  },
  {
   "cell_type": "code",
   "execution_count": 11,
   "id": "f1a6d785",
   "metadata": {},
   "outputs": [
    {
     "data": {
      "text/plain": [
       "dtype('int64')"
      ]
     },
     "execution_count": 11,
     "metadata": {},
     "output_type": "execute_result"
    }
   ],
   "source": [
    "data.dtype"
   ]
  },
  {
   "cell_type": "code",
   "execution_count": 16,
   "id": "b9d9c603",
   "metadata": {},
   "outputs": [],
   "source": [
    "data2 = np.arange(1,101)"
   ]
  },
  {
   "cell_type": "code",
   "execution_count": 17,
   "id": "fbd8b85c",
   "metadata": {},
   "outputs": [
    {
     "data": {
      "text/plain": [
       "array([[  1,   2,   3,   4,   5,   6,   7,   8,   9,  10],\n",
       "       [ 11,  12,  13,  14,  15,  16,  17,  18,  19,  20],\n",
       "       [ 21,  22,  23,  24,  25,  26,  27,  28,  29,  30],\n",
       "       [ 31,  32,  33,  34,  35,  36,  37,  38,  39,  40],\n",
       "       [ 41,  42,  43,  44,  45,  46,  47,  48,  49,  50],\n",
       "       [ 51,  52,  53,  54,  55,  56,  57,  58,  59,  60],\n",
       "       [ 61,  62,  63,  64,  65,  66,  67,  68,  69,  70],\n",
       "       [ 71,  72,  73,  74,  75,  76,  77,  78,  79,  80],\n",
       "       [ 81,  82,  83,  84,  85,  86,  87,  88,  89,  90],\n",
       "       [ 91,  92,  93,  94,  95,  96,  97,  98,  99, 100]])"
      ]
     },
     "execution_count": 17,
     "metadata": {},
     "output_type": "execute_result"
    }
   ],
   "source": [
    "data2.reshape(10,10)"
   ]
  },
  {
   "cell_type": "code",
   "execution_count": 19,
   "id": "af8f72ec",
   "metadata": {},
   "outputs": [],
   "source": [
    "student1=np.array([10,20,30,40])\n",
    "student2=np.array([50,60,70,1])"
   ]
  },
  {
   "cell_type": "code",
   "execution_count": 21,
   "id": "c360ca68",
   "metadata": {},
   "outputs": [
    {
     "name": "stdout",
     "output_type": "stream",
     "text": [
      "[ 60  80 100  41]\n",
      "[-40 -40 -40  39]\n",
      "[ 500 1200 2100   40]\n",
      "[ 0.2         0.33333333  0.42857143 40.        ]\n"
     ]
    }
   ],
   "source": [
    "#mathematical operation\n",
    "print(student1+student2)\n",
    "print(student1-student2)\n",
    "print(student1*student2)\n",
    "print(student1/student2)"
   ]
  },
  {
   "cell_type": "code",
   "execution_count": 23,
   "id": "884a8a49",
   "metadata": {},
   "outputs": [
    {
     "name": "stdout",
     "output_type": "stream",
     "text": [
      "2500\n",
      "50.0\n",
      "50.0\n",
      "28.861739379323623\n",
      "99\n",
      "1\n"
     ]
    }
   ],
   "source": [
    "#aggragation\n",
    "print(np.sum(data))\n",
    "print(np.mean(data))\n",
    "print(np.median(data))\n",
    "print(np.std(data))\n",
    "print(np.max(data))\n",
    "print(np.min(data))\n"
   ]
  },
  {
   "cell_type": "code",
   "execution_count": 25,
   "id": "d3b29af7",
   "metadata": {},
   "outputs": [],
   "source": [
    "data3 = np.arange(1,13)"
   ]
  },
  {
   "cell_type": "code",
   "execution_count": 26,
   "id": "db0f0ef5",
   "metadata": {},
   "outputs": [
    {
     "data": {
      "text/plain": [
       "array([[ 1,  2,  3,  4],\n",
       "       [ 5,  6,  7,  8],\n",
       "       [ 9, 10, 11, 12]])"
      ]
     },
     "execution_count": 26,
     "metadata": {},
     "output_type": "execute_result"
    }
   ],
   "source": [
    "data3.reshape(3,4)"
   ]
  },
  {
   "cell_type": "code",
   "execution_count": 29,
   "id": "950d5bca",
   "metadata": {},
   "outputs": [],
   "source": [
    "data4 = np.arange(1,13)"
   ]
  },
  {
   "cell_type": "code",
   "execution_count": 32,
   "id": "d34d08a4",
   "metadata": {},
   "outputs": [],
   "source": [
    "concatenated = np.concatenate([data4,data3])"
   ]
  },
  {
   "cell_type": "code",
   "execution_count": 33,
   "id": "5130be78",
   "metadata": {},
   "outputs": [
    {
     "data": {
      "text/plain": [
       "[array([1, 2, 3, 4, 5, 6, 7, 8]),\n",
       " array([ 9, 10, 11, 12,  1,  2,  3,  4]),\n",
       " array([ 5,  6,  7,  8,  9, 10, 11, 12])]"
      ]
     },
     "execution_count": 33,
     "metadata": {},
     "output_type": "execute_result"
    }
   ],
   "source": [
    "np.split(concatenated,3)"
   ]
  },
  {
   "cell_type": "code",
   "execution_count": 35,
   "id": "1a2c8998",
   "metadata": {},
   "outputs": [
    {
     "name": "stdout",
     "output_type": "stream",
     "text": [
      "[ 6  7  8  9 10 11 12]\n"
     ]
    }
   ],
   "source": [
    "#filter\n",
    "print(data4[data4>5])"
   ]
  },
  {
   "cell_type": "code",
   "execution_count": 38,
   "id": "201b74d3",
   "metadata": {},
   "outputs": [
    {
     "name": "stdout",
     "output_type": "stream",
     "text": [
      "23\n",
      "27\n"
     ]
    }
   ],
   "source": [
    "#toss simulation\n",
    "tosses=np.random.randint(0,2,size=50)\n",
    "head = np.sum(tosses==1)\n",
    "tail = np.sum(tosses==0)\n",
    "print(head)\n",
    "print(tail)"
   ]
  },
  {
   "cell_type": "code",
   "execution_count": 41,
   "id": "b31d033e",
   "metadata": {},
   "outputs": [
    {
     "name": "stdout",
     "output_type": "stream",
     "text": [
      "[3 1 1 1 3 2 1 2 2 1 3 3 6 6 1 3 3 5 4 2 2 4 4 5 1 5 4 1 3 1 5 1 2 3 4 4 4\n",
      " 1 6 6 6 1 5 2 1 4 1 5 4 2 4 5 5 3 1 5 4 2 6 5 5 4 2 3 3 5 6 1 2 1 5 1 4 5\n",
      " 6 3 4 3 3 1 5 3 3 1 6 5 3 3 1 3 6 3 3 5 3 6 3 3 2 4 1 3 6 3 6 3 6 5 3 1 3\n",
      " 4 1 5 2 6 3 1 6 4 3 5 5 3 5 1 6 4 4 1 4 3 5 6 5 1 4 6 6 2 4 3 6 6 3 6 6 4\n",
      " 3 3 1 3 4 6 5 6 2 2 6 3 1 5 3 1 1 3 5 4 1 6 1 4 6 3 6 3 4 2 4 2 3 5 2 6 2\n",
      " 4 1 4 2 5 6 4 3 6 5 5 4 4 6 6 2 4 2 5 2 3 1 2 2 4 6 1 2 2 3 4 2 1 3 3 4 4\n",
      " 3 6 6 5 2 2 6 6 6 1 1 4 1 5 4 1 5 3 2 4 1 5 2 5 3 2 4 6 4 1 4 4 2 2 1 6 3\n",
      " 3 1 2 2 1 3 3 1 4 3 3 4 3 1 4 2 3 4 2 6 1 3 4 6 3 1 5 5 2 3 6 3 2 3 4 6 4\n",
      " 6 5 6 2 6 3 5 4 5 5 5 4 5 4 6 5 5 3 3 6 2 4 5 6 3 5 5 3 3 4 2 5 4 1 4 4 2\n",
      " 3 6 2 3 5 3 5 6 1 4 4 4 2 6 3 2 5 6 1 1 1 6 6 4 6 5 4 5 6 5 3 3 3 5 1 1 6\n",
      " 2 5 2 5 1 5 4 1 5 1 4 5 5 1 1 6 1 5 4 3 3 5 6 3 6 5 4 3 2 4 5 4 2 5 4 2 1\n",
      " 2 1 4 6 3 3 6 1 5 1 1 5 3 5 5 2 6 6 2 6 5 4 2 1 6 3 4 2 2 1 1 5 2 6 6 3 4\n",
      " 3 5 5 6 2 4 6 2 2 5 1 3 3 4 3 6 3 1 3 2 6 5 1 3 2 2 5 6 5 2 3 6 4 3 2 1 6\n",
      " 1 3 5 4 6 5 6 5 5 1 1 3 5 2 4 6 3 2 1 4 6 3 1 5 2 3 6 6 4 1 3 1 3 4 3 2 3\n",
      " 6 3 5 5 3 5 6 5 1 1 2 3 3 5 1 1 4 6 4 3 2 4 4 5 6 2 2 6 5 5 2 1 5 3 4 6 2\n",
      " 6 3 1 5 5 4 3 5 2 6 5 3 4 4 6 1 6 3 1 4 2 3 5 2 4 5 3 1 4 3 1 2 3 5 3 3 2\n",
      " 1 4 4 2 1 3 6 1 2 3 1 1 2 4 3 3 6 3 3 4 1 2 1 2 5 5 5 2 5 5 4 4 1 6 2 4 3\n",
      " 4 3 1 1 5 1 6 4 2 2 2 3 4 2 1 6 2 2 3 6 6 4 6 5 3 4 6 4 3 6 4 5 3 3 1 2 2\n",
      " 5 5 3 5 1 5 5 6 4 2 1 1 5 1 3 4 5 6 4 4 4 5 1 1 3 2 5 5 1 6 3 4 1 1 6 2 6\n",
      " 1 4 2 3 3 4 1 5 5 2 3 2 6 6 6 6 6 5 4 3 6 5 6 1 5 4 2 4 1 2 5 6 6 6 1 3 5\n",
      " 4 2 2 5 6 4 2 2 2 6 2 2 4 4 5 6 2 2 2 3 4 1 5 3 6 1 5 4 4 4 4 6 3 2 2 3 2\n",
      " 3 3 5 6 1 2 5 3 6 2 6 6 6 3 5 4 5 2 5 2 3 2 1 6 6 6 5 2 4 5 6 6 4 3 2 6 2\n",
      " 2 2 5 6 5 3 4 2 5 1 6 1 6 5 2 5 1 5 1 4 4 1 4 3 1 3 4 2 2 6 1 5 1 3 1 6 4\n",
      " 6 3 5 4 6 1 6 1 6 1 3 1 3 5 2 4 4 5 6 5 6 2 1 3 3 3 3 4 2 6 4 5 6 3 3 5 1\n",
      " 5 6 3 2 5 5 5 4 3 6 3 3 2 6 5 4 1 4 2 3 1 5 6 2 1 6 5 2 1 4 4 5 1 3 1 5 5\n",
      " 1 1 6 3 5 3 4 1 5 5 1 4 5 2 5 5 4 1 6 3 3 4 5 3 6 5 3 5 2 2 6 3 1 3 4 5 4\n",
      " 1 4 1 4 1 3 3 3 4 6 6 4 2 6 3 6 4 2 5 4 2 2 5 2 4 6 5 6 1 3 1 1 4 2 1 5 1\n",
      " 4]\n",
      "165\n"
     ]
    }
   ],
   "source": [
    "#dice role simulation\n",
    "dice = np.random.randint(1,7,size=1000)\n",
    "print(dice)\n",
    "sixes=np.sum(dice==6)\n",
    "print(sixes)\n"
   ]
  },
  {
   "cell_type": "code",
   "execution_count": 42,
   "id": "f27b1ab2",
   "metadata": {},
   "outputs": [
    {
     "data": {
      "text/plain": [
       "array([[8, 8],\n",
       "       [8, 8]])"
      ]
     },
     "execution_count": 42,
     "metadata": {},
     "output_type": "execute_result"
    }
   ],
   "source": [
    "np.full((2,2),8)"
   ]
  },
  {
   "cell_type": "code",
   "execution_count": 44,
   "id": "aec0fb41",
   "metadata": {},
   "outputs": [
    {
     "data": {
      "text/plain": [
       "array([0.  , 0.25, 0.5 , 0.75, 1.  ])"
      ]
     },
     "execution_count": 44,
     "metadata": {},
     "output_type": "execute_result"
    }
   ],
   "source": [
    "np.linspace(0,1,5) #0 sai 1 kai darmiyan 5 values"
   ]
  },
  {
   "cell_type": "code",
   "execution_count": 45,
   "id": "4a48c9b9",
   "metadata": {},
   "outputs": [
    {
     "data": {
      "text/plain": [
       "array([[1., 0., 0.],\n",
       "       [0., 1., 0.],\n",
       "       [0., 0., 1.]])"
      ]
     },
     "execution_count": 45,
     "metadata": {},
     "output_type": "execute_result"
    }
   ],
   "source": [
    "np.eye(3,3) #identity matrix banata hai"
   ]
  },
  {
   "cell_type": "code",
   "execution_count": 49,
   "id": "1bf5420f",
   "metadata": {},
   "outputs": [],
   "source": [
    "new = np.random.randint(1, 21, (3,3)) #Ek random 3x3 matrix banao integers ke sath [1–20]"
   ]
  },
  {
   "cell_type": "code",
   "execution_count": 50,
   "id": "9e18d797",
   "metadata": {},
   "outputs": [
    {
     "name": "stdout",
     "output_type": "stream",
     "text": [
      "1\n",
      "12\n",
      "(12,)\n",
      "int64\n"
     ]
    }
   ],
   "source": [
    "print(data4.ndim)\n",
    "print(data4.size)\n",
    "print(data4.shape)\n",
    "print(data4.dtype)"
   ]
  },
  {
   "cell_type": "code",
   "execution_count": 52,
   "id": "3d83c6bb",
   "metadata": {},
   "outputs": [
    {
     "data": {
      "text/plain": [
       "array([[19, 16,  8],\n",
       "       [ 9, 20,  5],\n",
       "       [17,  9, 14]], dtype=int32)"
      ]
     },
     "execution_count": 52,
     "metadata": {},
     "output_type": "execute_result"
    }
   ],
   "source": [
    "new.T #transpose"
   ]
  },
  {
   "cell_type": "code",
   "execution_count": 53,
   "id": "a6122e4d",
   "metadata": {},
   "outputs": [
    {
     "name": "stdout",
     "output_type": "stream",
     "text": [
      "[[0.25516079 0.35965022 0.14915065]\n",
      " [0.11913373 0.20630575 0.55692717]]\n"
     ]
    }
   ],
   "source": [
    "print(np.random.rand(2,3))"
   ]
  },
  {
   "cell_type": "code",
   "execution_count": null,
   "id": "42c0bda4",
   "metadata": {},
   "outputs": [
    {
     "name": "stdout",
     "output_type": "stream",
     "text": [
      "[3 8 9 5 7 2 5 6 5 9 6 5]\n"
     ]
    }
   ],
   "source": [
    "print(np.random.randint(2,10,12))  #integers generate kar rhai hain"
   ]
  },
  {
   "cell_type": "code",
   "execution_count": null,
   "id": "546c2804",
   "metadata": {},
   "outputs": [
    {
     "name": "stdout",
     "output_type": "stream",
     "text": [
      "[[6 9 4]\n",
      " [4 5 8]]\n"
     ]
    }
   ],
   "source": [
    "print(np.random.randint(2,10,(2,3))) #matrix generate kar rahi hainn"
   ]
  },
  {
   "cell_type": "code",
   "execution_count": 62,
   "id": "83557591",
   "metadata": {},
   "outputs": [
    {
     "name": "stdout",
     "output_type": "stream",
     "text": [
      "[[1 2 3]\n",
      " [4 5 6]\n",
      " [7 8 9]]\n",
      "[[6]]\n"
     ]
    }
   ],
   "source": [
    "#Ek 3x3 matrix banao np.arange(1,10).reshape(3,3) aur uska 2nd row aur 3rd column ka element print karo.\n",
    "arr= np.arange(1,10).reshape(3,3)\n",
    "print(arr)\n",
    "print(arr[1:2,2:3])"
   ]
  },
  {
   "cell_type": "code",
   "execution_count": 63,
   "id": "13177f56",
   "metadata": {},
   "outputs": [
    {
     "name": "stdout",
     "output_type": "stream",
     "text": [
      "[[1 2]\n",
      " [4 5]]\n"
     ]
    }
   ],
   "source": [
    "print(arr[0:2,0:2])"
   ]
  }
 ],
 "metadata": {
  "kernelspec": {
   "display_name": "Python 3",
   "language": "python",
   "name": "python3"
  },
  "language_info": {
   "codemirror_mode": {
    "name": "ipython",
    "version": 3
   },
   "file_extension": ".py",
   "mimetype": "text/x-python",
   "name": "python",
   "nbconvert_exporter": "python",
   "pygments_lexer": "ipython3",
   "version": "3.13.3"
  }
 },
 "nbformat": 4,
 "nbformat_minor": 5
}
