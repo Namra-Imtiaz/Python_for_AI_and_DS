{
 "cells": [
  {
   "cell_type": "markdown",
   "id": "e545d0fb",
   "metadata": {},
   "source": [
    "Comparision Operators are the operators that are use to relate the values, and it results in boolean value true/false"
   ]
  },
  {
   "cell_type": "code",
   "execution_count": 1,
   "id": "8e689923",
   "metadata": {},
   "outputs": [
    {
     "data": {
      "text/plain": [
       "True"
      ]
     },
     "execution_count": 1,
     "metadata": {},
     "output_type": "execute_result"
    }
   ],
   "source": [
    "2<3"
   ]
  },
  {
   "cell_type": "code",
   "execution_count": 2,
   "id": "0ea445b9",
   "metadata": {},
   "outputs": [
    {
     "data": {
      "text/plain": [
       "False"
      ]
     },
     "execution_count": 2,
     "metadata": {},
     "output_type": "execute_result"
    }
   ],
   "source": [
    "2==3"
   ]
  },
  {
   "cell_type": "code",
   "execution_count": 3,
   "id": "4316a6b8",
   "metadata": {},
   "outputs": [
    {
     "data": {
      "text/plain": [
       "True"
      ]
     },
     "execution_count": 3,
     "metadata": {},
     "output_type": "execute_result"
    }
   ],
   "source": [
    "2<=3"
   ]
  },
  {
   "cell_type": "code",
   "execution_count": 4,
   "id": "0ee363fc",
   "metadata": {},
   "outputs": [
    {
     "data": {
      "text/plain": [
       "True"
      ]
     },
     "execution_count": 4,
     "metadata": {},
     "output_type": "execute_result"
    }
   ],
   "source": [
    "2<=2"
   ]
  },
  {
   "cell_type": "code",
   "execution_count": 5,
   "id": "1f8f2542",
   "metadata": {},
   "outputs": [
    {
     "data": {
      "text/plain": [
       "True"
      ]
     },
     "execution_count": 5,
     "metadata": {},
     "output_type": "execute_result"
    }
   ],
   "source": [
    "x =2\n",
    "y =3\n",
    "x<3"
   ]
  },
  {
   "cell_type": "code",
   "execution_count": 9,
   "id": "c1546862",
   "metadata": {},
   "outputs": [
    {
     "data": {
      "text/plain": [
       "True"
      ]
     },
     "execution_count": 9,
     "metadata": {},
     "output_type": "execute_result"
    }
   ],
   "source": [
    "\"chris\">\"charlo\"  #checks on unicode "
   ]
  },
  {
   "cell_type": "code",
   "execution_count": 10,
   "id": "2ad889f8",
   "metadata": {},
   "outputs": [
    {
     "ename": "TypeError",
     "evalue": "'>' not supported between instances of 'int' and 'str'",
     "output_type": "error",
     "traceback": [
      "\u001b[31m---------------------------------------------------------------------------\u001b[39m",
      "\u001b[31mTypeError\u001b[39m                                 Traceback (most recent call last)",
      "\u001b[36mCell\u001b[39m\u001b[36m \u001b[39m\u001b[32mIn[10]\u001b[39m\u001b[32m, line 1\u001b[39m\n\u001b[32m----> \u001b[39m\u001b[32m1\u001b[39m \u001b[32;43m3\u001b[39;49m\u001b[43m>\u001b[49m\u001b[33;43m\"\u001b[39;49m\u001b[33;43mchris\u001b[39;49m\u001b[33;43m\"\u001b[39;49m\n",
      "\u001b[31mTypeError\u001b[39m: '>' not supported between instances of 'int' and 'str'"
     ]
    }
   ],
   "source": [
    "3>\"chris\""
   ]
  },
  {
   "cell_type": "code",
   "execution_count": 11,
   "id": "4410454e",
   "metadata": {},
   "outputs": [
    {
     "data": {
      "text/plain": [
       "False"
      ]
     },
     "execution_count": 11,
     "metadata": {},
     "output_type": "execute_result"
    }
   ],
   "source": [
    "\"3\">\"chris\""
   ]
  },
  {
   "cell_type": "code",
   "execution_count": 12,
   "id": "fb5fed89",
   "metadata": {},
   "outputs": [
    {
     "data": {
      "text/plain": [
       "True"
      ]
     },
     "execution_count": 12,
     "metadata": {},
     "output_type": "execute_result"
    }
   ],
   "source": [
    "3<4.1"
   ]
  },
  {
   "cell_type": "code",
   "execution_count": 13,
   "id": "d1a4a9df",
   "metadata": {},
   "outputs": [
    {
     "data": {
      "text/plain": [
       "True"
      ]
     },
     "execution_count": 13,
     "metadata": {},
     "output_type": "execute_result"
    }
   ],
   "source": [
    "2!=3"
   ]
  },
  {
   "cell_type": "code",
   "execution_count": 14,
   "id": "e8af6bdd",
   "metadata": {},
   "outputs": [
    {
     "name": "stdout",
     "output_type": "stream",
     "text": [
      "True\n"
     ]
    }
   ],
   "source": [
    "print(True == 1)"
   ]
  },
  {
   "cell_type": "code",
   "execution_count": 15,
   "id": "8d72ae24",
   "metadata": {},
   "outputs": [
    {
     "name": "stdout",
     "output_type": "stream",
     "text": [
      "[ True  True False False]\n",
      "[False  True  True False]\n"
     ]
    }
   ],
   "source": [
    "import numpy as np\n",
    "my_house = np.array([18.0, 20.0, 10.75, 9.50])\n",
    "your_house = np.array([14.0, 24.0, 14.25, 9.0])\n",
    "\n",
    "# my_house greater than or equal to 18\n",
    "print(my_house>=18)\n",
    "\n",
    "# my_house less than your_house\n",
    "print(my_house<your_house)"
   ]
  },
  {
   "cell_type": "markdown",
   "id": "b4d4e47d",
   "metadata": {},
   "source": [
    "boolean operators -> and,or,not"
   ]
  },
  {
   "cell_type": "markdown",
   "id": "245d9ff6",
   "metadata": {},
   "source": [
    "arrays euivalent of boolean operatos are -> logical_and(),logical_or(),logical_not()"
   ]
  },
  {
   "cell_type": "code",
   "execution_count": 18,
   "id": "87399da0",
   "metadata": {},
   "outputs": [
    {
     "data": {
      "text/plain": [
       "array([False, False, False,  True,  True])"
      ]
     },
     "execution_count": 18,
     "metadata": {},
     "output_type": "execute_result"
    }
   ],
   "source": [
    "array1=np.array([2,3,4,2.5,2.6])\n",
    "np.logical_and(array1>2,array1<3)"
   ]
  }
 ],
 "metadata": {
  "kernelspec": {
   "display_name": "Python 3",
   "language": "python",
   "name": "python3"
  },
  "language_info": {
   "codemirror_mode": {
    "name": "ipython",
    "version": 3
   },
   "file_extension": ".py",
   "mimetype": "text/x-python",
   "name": "python",
   "nbconvert_exporter": "python",
   "pygments_lexer": "ipython3",
   "version": "3.13.3"
  }
 },
 "nbformat": 4,
 "nbformat_minor": 5
}
