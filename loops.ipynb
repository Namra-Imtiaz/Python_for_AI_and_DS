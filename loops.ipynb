{
 "cells": [
  {
   "cell_type": "markdown",
   "id": "54065470",
   "metadata": {},
   "source": [
    "WHILE LOOP"
   ]
  },
  {
   "cell_type": "code",
   "execution_count": null,
   "id": "6b9337bb",
   "metadata": {},
   "outputs": [],
   "source": [
    "while condition:\n",
    "    expression"
   ]
  },
  {
   "cell_type": "code",
   "execution_count": 2,
   "id": "d1f699f9",
   "metadata": {},
   "outputs": [
    {
     "name": "stdout",
     "output_type": "stream",
     "text": [
      "12.5\n",
      "3.125\n",
      "0.78125\n"
     ]
    }
   ],
   "source": [
    "error = 50.0\n",
    "while error>1:\n",
    "    error=error/4\n",
    "    print(error)"
   ]
  },
  {
   "cell_type": "markdown",
   "id": "7922255b",
   "metadata": {},
   "source": [
    "FOR LOOP"
   ]
  },
  {
   "cell_type": "code",
   "execution_count": null,
   "id": "14fc6aa5",
   "metadata": {},
   "outputs": [],
   "source": [
    "For var in seq:\n",
    "    expression"
   ]
  },
  {
   "cell_type": "code",
   "execution_count": 6,
   "id": "b128fe0a",
   "metadata": {},
   "outputs": [
    {
     "name": "stdout",
     "output_type": "stream",
     "text": [
      "0 1\n",
      "1 2\n",
      "2 3\n",
      "3 4\n",
      "4 5\n"
     ]
    }
   ],
   "source": [
    "dat = [1,2,3,4,5]\n",
    "for i in dat:\n",
    "    print(dat.index(i),i)"
   ]
  },
  {
   "cell_type": "code",
   "execution_count": 9,
   "id": "a9e57b9f",
   "metadata": {},
   "outputs": [
    {
     "name": "stdout",
     "output_type": "stream",
     "text": [
      "index 0: 1\n",
      "index 1: 2\n",
      "index 2: 3\n",
      "index 3: 4\n",
      "index 4: 5\n"
     ]
    }
   ],
   "source": [
    "for index,i in enumerate(dat):\n",
    "    print(\"index \"+str(index)+\": \"+str(i))"
   ]
  },
  {
   "cell_type": "code",
   "execution_count": 10,
   "id": "4a2ed4ba",
   "metadata": {},
   "outputs": [
    {
     "name": "stdout",
     "output_type": "stream",
     "text": [
      "F\n",
      "A\n",
      "M\n",
      "I\n",
      "L\n",
      "Y\n"
     ]
    }
   ],
   "source": [
    "for c in \"family\":\n",
    "    print(c.capitalize())"
   ]
  },
  {
   "cell_type": "code",
   "execution_count": 11,
   "id": "71109e11",
   "metadata": {},
   "outputs": [
    {
     "name": "stdout",
     "output_type": "stream",
     "text": [
      "room 1: 11.25\n",
      "room 2: 18.0\n",
      "room 3: 20.0\n",
      "room 4: 10.75\n",
      "room 5: 9.5\n"
     ]
    }
   ],
   "source": [
    "# areas list\n",
    "areas = [11.25, 18.0, 20.0, 10.75, 9.50]\n",
    "# Code the for loop\n",
    "for index,area in enumerate(areas,start=1) :\n",
    "    print(\"room \" + str(index) + \": \" + str(area))"
   ]
  },
  {
   "cell_type": "code",
   "execution_count": 12,
   "id": "b45ef6b3",
   "metadata": {},
   "outputs": [
    {
     "name": "stdout",
     "output_type": "stream",
     "text": [
      "the hallway is 11.25 sqm\n",
      "the kitchen is 18.0 sqm\n",
      "the living room is 20.0 sqm\n",
      "the bedroom is 10.75 sqm\n",
      "the bathroom is 9.5 sqm\n"
     ]
    }
   ],
   "source": [
    "# house list of lists\n",
    "house = [[\"hallway\", 11.25], \n",
    "         [\"kitchen\", 18.0], \n",
    "         [\"living room\", 20.0], \n",
    "         [\"bedroom\", 10.75], \n",
    "         [\"bathroom\", 9.50]]\n",
    "         \n",
    "# Build a for loop from scratch\n",
    "for i in house:\n",
    "    print(f\"the {i[0]} is {i[1]} sqm\")"
   ]
  },
  {
   "cell_type": "markdown",
   "id": "e59c9a1b",
   "metadata": {},
   "source": [
    "LOOPS IN DICTIONARIES \n",
    "mydict.items()"
   ]
  },
  {
   "cell_type": "code",
   "execution_count": 19,
   "id": "a3d93e3a",
   "metadata": {},
   "outputs": [
    {
     "name": "stdout",
     "output_type": "stream",
     "text": [
      "pakistan 14.5\n",
      "india 12\n",
      "aus 11\n"
     ]
    }
   ],
   "source": [
    "world = {\n",
    "    \"pakistan\":14.5,\n",
    "    \"india\":12,\n",
    "    \"aus\":11\n",
    "}\n",
    "\n",
    "for key,value in world.items():\n",
    "    print(key,str(value))"
   ]
  },
  {
   "cell_type": "markdown",
   "id": "5f12cea1",
   "metadata": {},
   "source": [
    "LOOPS IN ARRAYS np.ndtir(myarray)"
   ]
  },
  {
   "cell_type": "code",
   "execution_count": null,
   "id": "eb8b5b6b",
   "metadata": {},
   "outputs": [
    {
     "name": "stdout",
     "output_type": "stream",
     "text": [
      "0.01652892561983471\n",
      "0.75\n",
      "0.00390625\n",
      "0.3125\n"
     ]
    }
   ],
   "source": [
    "#1d array\n",
    "import numpy as np\n",
    "np_height=np.array([11,2,32,4])\n",
    "np_weight=np.array([2,3,4,5])\n",
    "bmi=np_weight/np_height ** 2\n",
    "for val in bmi:\n",
    "    print(val)"
   ]
  },
  {
   "cell_type": "code",
   "execution_count": 25,
   "id": "55eb3a3a",
   "metadata": {},
   "outputs": [
    {
     "name": "stdout",
     "output_type": "stream",
     "text": [
      "[2 3 4 5]\n",
      "[11  2 32  4]\n"
     ]
    }
   ],
   "source": [
    "#d2 array\n",
    "np_height=np.array([11,2,32,4])\n",
    "np_weight=np.array([2,3,4,5])\n",
    "bmi=np.array([np_weight,np_height])\n",
    "for val in bmi:\n",
    "    print(val)"
   ]
  },
  {
   "cell_type": "markdown",
   "id": "044e02e4",
   "metadata": {},
   "source": [
    "did u see above it gives 1d array if we apply the same for loop on 2d array but we want elements so for that use numoy function that is *nditer()* , use as below :"
   ]
  },
  {
   "cell_type": "code",
   "execution_count": 26,
   "id": "da85b1b2",
   "metadata": {},
   "outputs": [
    {
     "name": "stdout",
     "output_type": "stream",
     "text": [
      "[[ 2  3  4  5]\n",
      " [11  2 32  4]]\n",
      "2\n",
      "3\n",
      "4\n",
      "5\n",
      "11\n",
      "2\n",
      "32\n",
      "4\n"
     ]
    }
   ],
   "source": [
    "#d2 array\n",
    "np_height=np.array([11,2,32,4])\n",
    "np_weight=np.array([2,3,4,5])\n",
    "bmi=np.array([np_weight,np_height])\n",
    "print(bmi)\n",
    "for val in np.nditer(bmi):\n",
    "    print(val)"
   ]
  },
  {
   "cell_type": "markdown",
   "id": "40144f5d",
   "metadata": {},
   "source": [
    "LOOPING ON PANDA DATAFRAMES"
   ]
  },
  {
   "cell_type": "code",
   "execution_count": null,
   "id": "b3c92d44",
   "metadata": {},
   "outputs": [
    {
     "name": "stdout",
     "output_type": "stream",
     "text": [
      "BR\n",
      "country       brazil\n",
      "capital            a\n",
      "population         1\n",
      "Name: BR, dtype: object\n",
      "RU\n",
      "country       russia\n",
      "capital            b\n",
      "population         2\n",
      "Name: RU, dtype: object\n",
      "IN\n",
      "country       india\n",
      "capital           c\n",
      "population        3\n",
      "Name: IN, dtype: object\n",
      "PA\n",
      "country       pakistan\n",
      "capital              d\n",
      "population           4\n",
      "Name: PA, dtype: object\n"
     ]
    }
   ],
   "source": [
    "import pandas as pd\n",
    "data = pd.read_csv('data.csv',index_col=0)\n",
    "for lab,row in data.iterrows():   #lab is index column and row shows row ka data\n",
    "    print(lab)\n",
    "    print(row)"
   ]
  },
  {
   "cell_type": "code",
   "execution_count": 28,
   "id": "fb8a0ff9",
   "metadata": {},
   "outputs": [
    {
     "name": "stdout",
     "output_type": "stream",
     "text": [
      "BR : a\n",
      "RU : b\n",
      "IN : c\n",
      "PA : d\n"
     ]
    }
   ],
   "source": [
    "for lab,row in data.iterrows():   #lab is index column and row shows row ka data\n",
    "    print(lab+' : '+row['capital'])"
   ]
  },
  {
   "cell_type": "code",
   "execution_count": 29,
   "id": "814257ff",
   "metadata": {},
   "outputs": [
    {
     "name": "stdout",
     "output_type": "stream",
     "text": [
      "     country capital  population  name_length\n",
      "BR    brazil       a           1          6.0\n",
      "RU    russia       b           2          6.0\n",
      "IN     india       c           3          5.0\n",
      "PA  pakistan       d           4          8.0\n"
     ]
    }
   ],
   "source": [
    "for lab,row in data.iterrows():   #lab is index column and row shows row ka data\n",
    "    data.loc[lab,\"name_length\"]=len(row['country'])\n",
    "print(data)"
   ]
  },
  {
   "cell_type": "code",
   "execution_count": 30,
   "id": "9737be60",
   "metadata": {},
   "outputs": [
    {
     "name": "stdout",
     "output_type": "stream",
     "text": [
      "     country capital  population  name_length\n",
      "BR    brazil       a           6          6.0\n",
      "RU    russia       b           7          6.0\n",
      "IN     india       c           8          5.0\n",
      "PA  pakistan       d           9          8.0\n"
     ]
    }
   ],
   "source": [
    "data['population']=data[\"population\"].apply(lambda x:x+5)\n",
    "print(data)"
   ]
  },
  {
   "cell_type": "code",
   "execution_count": 32,
   "id": "8e2cf27b",
   "metadata": {},
   "outputs": [
    {
     "name": "stdout",
     "output_type": "stream",
     "text": [
      "     country capital  population  name_length                summary\n",
      "BR    brazil       a           6          6.0    brazil population 6\n",
      "RU    russia       b           7          6.0    russia population 7\n",
      "IN     india       c           8          5.0     india population 8\n",
      "PA  pakistan       d           9          8.0  pakistan population 9\n"
     ]
    }
   ],
   "source": [
    "data['summary']=data.apply(lambda row:f\"{row['country']} population {row['population']}\",axis=1 )\n",
    "print(data)"
   ]
  },
  {
   "cell_type": "code",
   "execution_count": 34,
   "id": "a603deb9",
   "metadata": {},
   "outputs": [
    {
     "name": "stdout",
     "output_type": "stream",
     "text": [
      "     country capital  population  name_length                summary  length\n",
      "BR    brazil       a           6          6.0    brazil population 6       6\n",
      "RU    russia       b           7          6.0    russia population 7       6\n",
      "IN     india       c           8          5.0     india population 8       5\n",
      "PA  pakistan       d           9          8.0  pakistan population 9       8\n"
     ]
    }
   ],
   "source": [
    "data['length']=data[\"country\"].apply(len)\n",
    "print(data)"
   ]
  }
 ],
 "metadata": {
  "kernelspec": {
   "display_name": "Python 3",
   "language": "python",
   "name": "python3"
  },
  "language_info": {
   "codemirror_mode": {
    "name": "ipython",
    "version": 3
   },
   "file_extension": ".py",
   "mimetype": "text/x-python",
   "name": "python",
   "nbconvert_exporter": "python",
   "pygments_lexer": "ipython3",
   "version": "3.13.3"
  }
 },
 "nbformat": 4,
 "nbformat_minor": 5
}
