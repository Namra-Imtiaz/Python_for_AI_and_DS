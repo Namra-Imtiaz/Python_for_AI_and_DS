{
 "cells": [
  {
   "cell_type": "code",
   "execution_count": 24,
   "id": "a7b40e62",
   "metadata": {},
   "outputs": [],
   "source": [
    "import numpy as np"
   ]
  },
  {
   "cell_type": "code",
   "execution_count": 25,
   "id": "2b240879",
   "metadata": {},
   "outputs": [
    {
     "data": {
      "text/plain": [
       "array([1, 2, 3])"
      ]
     },
     "execution_count": 25,
     "metadata": {},
     "output_type": "execute_result"
    }
   ],
   "source": [
    "np.array([1,2,3])"
   ]
  },
  {
   "cell_type": "code",
   "execution_count": 26,
   "id": "f320a961",
   "metadata": {},
   "outputs": [],
   "source": [
    "baseball = [180, 215, 210, 210, 188, 176, 209, 200]"
   ]
  },
  {
   "cell_type": "code",
   "execution_count": 27,
   "id": "6382f874",
   "metadata": {},
   "outputs": [],
   "source": [
    "# convert the baseball into numpy array"
   ]
  },
  {
   "cell_type": "code",
   "execution_count": 28,
   "id": "04a913eb",
   "metadata": {},
   "outputs": [],
   "source": [
    "np_baseball = np.array(baseball)"
   ]
  },
  {
   "cell_type": "code",
   "execution_count": 29,
   "id": "77bb62ed",
   "metadata": {},
   "outputs": [
    {
     "name": "stdout",
     "output_type": "stream",
     "text": [
      "[180 215 210 210 188 176 209 200]\n"
     ]
    }
   ],
   "source": [
    "print(np_baseball)"
   ]
  },
  {
   "cell_type": "code",
   "execution_count": 30,
   "id": "246927f6",
   "metadata": {},
   "outputs": [
    {
     "data": {
      "text/plain": [
       "numpy.ndarray"
      ]
     },
     "execution_count": 30,
     "metadata": {},
     "output_type": "execute_result"
    }
   ],
   "source": [
    "type(np_baseball)  #nd means n dimensional"
   ]
  },
  {
   "cell_type": "code",
   "execution_count": 31,
   "id": "1cc4f683",
   "metadata": {},
   "outputs": [],
   "source": [
    "height = [3,4.5,5.5,6] #convert this list into numpy first and then convert heights into meters"
   ]
  },
  {
   "cell_type": "code",
   "execution_count": 32,
   "id": "06b06d6c",
   "metadata": {},
   "outputs": [],
   "source": [
    "np_height = np.array(height)"
   ]
  },
  {
   "cell_type": "code",
   "execution_count": 33,
   "id": "033265d7",
   "metadata": {},
   "outputs": [],
   "source": [
    "np_height_m = np_height * 0.0254"
   ]
  },
  {
   "cell_type": "code",
   "execution_count": 34,
   "id": "40cfe96d",
   "metadata": {},
   "outputs": [
    {
     "name": "stdout",
     "output_type": "stream",
     "text": [
      "[0.0762 0.1143 0.1397 0.1524]\n"
     ]
    }
   ],
   "source": [
    "print(np_height_m)"
   ]
  },
  {
   "cell_type": "code",
   "execution_count": 35,
   "id": "241a06da",
   "metadata": {},
   "outputs": [
    {
     "data": {
      "text/plain": [
       "array([5, 6, 3])"
      ]
     },
     "execution_count": 35,
     "metadata": {},
     "output_type": "execute_result"
    }
   ],
   "source": [
    "#it will convert different dtypes into one dtype\n",
    "np.array([1,True,3]) + np.array([4,5,False])"
   ]
  },
  {
   "cell_type": "code",
   "execution_count": 36,
   "id": "c32209a4",
   "metadata": {},
   "outputs": [
    {
     "data": {
      "text/plain": [
       "[5.5, 6]"
      ]
     },
     "execution_count": 36,
     "metadata": {},
     "output_type": "execute_result"
    }
   ],
   "source": [
    "#indexing and sub-array is same as python list\n",
    "height[3]\n",
    "height[2:]"
   ]
  },
  {
   "cell_type": "code",
   "execution_count": 37,
   "id": "7c823613",
   "metadata": {},
   "outputs": [
    {
     "ename": "AttributeError",
     "evalue": "'list' object has no attribute 'shape'",
     "output_type": "error",
     "traceback": [
      "\u001b[31m---------------------------------------------------------------------------\u001b[39m",
      "\u001b[31mAttributeError\u001b[39m                            Traceback (most recent call last)",
      "\u001b[36mCell\u001b[39m\u001b[36m \u001b[39m\u001b[32mIn[37]\u001b[39m\u001b[32m, line 1\u001b[39m\n\u001b[32m----> \u001b[39m\u001b[32m1\u001b[39m \u001b[43mheight\u001b[49m\u001b[43m.\u001b[49m\u001b[43mshape\u001b[49m\n",
      "\u001b[31mAttributeError\u001b[39m: 'list' object has no attribute 'shape'"
     ]
    }
   ],
   "source": [
    "height.shape"
   ]
  },
  {
   "cell_type": "code",
   "execution_count": null,
   "id": "82abb450",
   "metadata": {},
   "outputs": [],
   "source": [
    "baseball = [[180, 78.4],\n",
    "            [215, 102.7],\n",
    "            [210, 98.5],\n",
    "            [188, 75.2]]"
   ]
  },
  {
   "cell_type": "code",
   "execution_count": null,
   "id": "542d965c",
   "metadata": {},
   "outputs": [
    {
     "name": "stdout",
     "output_type": "stream",
     "text": [
      "[[180.   78.4]\n",
      " [215.  102.7]\n",
      " [210.   98.5]\n",
      " [188.   75.2]]\n"
     ]
    }
   ],
   "source": [
    "#convert baseball into np array\n",
    "np_baseball = np.array(baseball)\n",
    "print(np_baseball)"
   ]
  },
  {
   "cell_type": "code",
   "execution_count": null,
   "id": "7f4fe836",
   "metadata": {},
   "outputs": [
    {
     "data": {
      "text/plain": [
       "(4, 2)"
      ]
     },
     "execution_count": 26,
     "metadata": {},
     "output_type": "execute_result"
    }
   ],
   "source": [
    "np_baseball.shape"
   ]
  },
  {
   "cell_type": "code",
   "execution_count": null,
   "id": "f9c7b6db",
   "metadata": {},
   "outputs": [
    {
     "data": {
      "text/plain": [
       "array([10,  8,  9, 36])"
      ]
     },
     "execution_count": 29,
     "metadata": {},
     "output_type": "execute_result"
    }
   ],
   "source": [
    "np.array([1,2,3,4])*np.array([10,4,3,9])"
   ]
  },
  {
   "cell_type": "code",
   "execution_count": null,
   "id": "4685fa17",
   "metadata": {},
   "outputs": [
    {
     "ename": "ValueError",
     "evalue": "operands could not be broadcast together with shapes (4,) (3,) ",
     "output_type": "error",
     "traceback": [
      "\u001b[31m---------------------------------------------------------------------------\u001b[39m",
      "\u001b[31mValueError\u001b[39m                                Traceback (most recent call last)",
      "\u001b[36mCell\u001b[39m\u001b[36m \u001b[39m\u001b[32mIn[30]\u001b[39m\u001b[32m, line 1\u001b[39m\n\u001b[32m----> \u001b[39m\u001b[32m1\u001b[39m \u001b[43mnp\u001b[49m\u001b[43m.\u001b[49m\u001b[43marray\u001b[49m\u001b[43m(\u001b[49m\u001b[43m[\u001b[49m\u001b[32;43m1\u001b[39;49m\u001b[43m,\u001b[49m\u001b[32;43m2\u001b[39;49m\u001b[43m,\u001b[49m\u001b[32;43m3\u001b[39;49m\u001b[43m,\u001b[49m\u001b[32;43m4\u001b[39;49m\u001b[43m]\u001b[49m\u001b[43m)\u001b[49m\u001b[43m*\u001b[49m\u001b[43mnp\u001b[49m\u001b[43m.\u001b[49m\u001b[43marray\u001b[49m\u001b[43m(\u001b[49m\u001b[43m[\u001b[49m\u001b[32;43m10\u001b[39;49m\u001b[43m,\u001b[49m\u001b[32;43m4\u001b[39;49m\u001b[43m,\u001b[49m\u001b[32;43m3\u001b[39;49m\u001b[43m]\u001b[49m\u001b[43m)\u001b[49m\n",
      "\u001b[31mValueError\u001b[39m: operands could not be broadcast together with shapes (4,) (3,) "
     ]
    }
   ],
   "source": [
    "np.array([1,2,3,4])*np.array([10,4,3])"
   ]
  },
  {
   "cell_type": "code",
   "execution_count": 40,
   "id": "6e8cc953",
   "metadata": {},
   "outputs": [],
   "source": [
    "#generating random data to work on \n",
    "heightnew = np.round(np.random.normal(1.75,0.20,10),2)"
   ]
  },
  {
   "cell_type": "code",
   "execution_count": 41,
   "id": "84191a6a",
   "metadata": {},
   "outputs": [],
   "source": [
    "weightnew = np.round(np.random.normal(60.32,15,10),2)"
   ]
  },
  {
   "cell_type": "code",
   "execution_count": 42,
   "id": "ae272e6b",
   "metadata": {},
   "outputs": [],
   "source": [
    "np_city = np.column_stack((heightnew,weightnew))"
   ]
  },
  {
   "cell_type": "code",
   "execution_count": 43,
   "id": "464bf4be",
   "metadata": {},
   "outputs": [
    {
     "name": "stdout",
     "output_type": "stream",
     "text": [
      "[[ 1.96 58.81]\n",
      " [ 1.83 44.27]\n",
      " [ 1.57 64.26]\n",
      " [ 2.13 69.41]\n",
      " [ 1.62 44.07]\n",
      " [ 1.93 39.05]\n",
      " [ 1.57 49.12]\n",
      " [ 1.68 66.64]\n",
      " [ 1.98 47.43]\n",
      " [ 1.52 75.55]]\n"
     ]
    }
   ],
   "source": [
    "print(np_city)"
   ]
  },
  {
   "cell_type": "code",
   "execution_count": 44,
   "id": "79d887da",
   "metadata": {},
   "outputs": [
    {
     "data": {
      "text/plain": [
       "np.float64(1.779)"
      ]
     },
     "execution_count": 44,
     "metadata": {},
     "output_type": "execute_result"
    }
   ],
   "source": [
    "np.mean(np_city[:,0])"
   ]
  },
  {
   "cell_type": "code",
   "execution_count": 45,
   "id": "480aa031",
   "metadata": {},
   "outputs": [
    {
     "data": {
      "text/plain": [
       "np.float64(1.755)"
      ]
     },
     "execution_count": 45,
     "metadata": {},
     "output_type": "execute_result"
    }
   ],
   "source": [
    "np.median(np_city[:,0])"
   ]
  },
  {
   "cell_type": "code",
   "execution_count": 46,
   "id": "634010c8",
   "metadata": {},
   "outputs": [
    {
     "data": {
      "text/plain": [
       "array([[ 1.        , -0.17152506],\n",
       "       [-0.17152506,  1.        ]])"
      ]
     },
     "execution_count": 46,
     "metadata": {},
     "output_type": "execute_result"
    }
   ],
   "source": [
    "np.corrcoef(np_city[:,0],np_city[:,1])"
   ]
  },
  {
   "cell_type": "code",
   "execution_count": 47,
   "id": "2c3a5e97",
   "metadata": {},
   "outputs": [
    {
     "data": {
      "text/plain": [
       "np.float64(0.2028028599403864)"
      ]
     },
     "execution_count": 47,
     "metadata": {},
     "output_type": "execute_result"
    }
   ],
   "source": [
    "np.std(np_city[:,0])"
   ]
  },
  {
   "cell_type": "code",
   "execution_count": 48,
   "id": "7bd29ed2",
   "metadata": {},
   "outputs": [
    {
     "data": {
      "text/plain": [
       "20"
      ]
     },
     "execution_count": 48,
     "metadata": {},
     "output_type": "execute_result"
    }
   ],
   "source": [
    "np_city.size"
   ]
  },
  {
   "cell_type": "code",
   "execution_count": 49,
   "id": "db7bcde1",
   "metadata": {},
   "outputs": [
    {
     "data": {
      "text/plain": [
       "dtype('float64')"
      ]
     },
     "execution_count": 49,
     "metadata": {},
     "output_type": "execute_result"
    }
   ],
   "source": [
    "np_city.dtype"
   ]
  },
  {
   "cell_type": "markdown",
   "id": "12b1ce4f",
   "metadata": {},
   "source": [
    "##4. *Array Initialization Functions*"
   ]
  },
  {
   "cell_type": "code",
   "execution_count": 50,
   "id": "21cf5596",
   "metadata": {},
   "outputs": [
    {
     "name": "stdout",
     "output_type": "stream",
     "text": [
      "[[0. 0. 0.]\n",
      " [0. 0. 0.]]\n",
      "[[1. 1. 1.]\n",
      " [1. 1. 1.]\n",
      " [1. 1. 1.]]\n",
      "[0 2 4 6 8]\n",
      "[0.   0.25 0.5  0.75 1.  ]\n"
     ]
    }
   ],
   "source": [
    "print(np.zeros((2,3)))   # 2x3 array with zeros\n",
    "print(np.ones((3,3)))    # 3x3 array with ones\n",
    "print(np.arange(0,10,2)) # values from 0 to 8 step=2\n",
    "print(np.linspace(0,1,5)) # 5 values between 0 and 1"
   ]
  },
  {
   "cell_type": "markdown",
   "id": "7d2b7b05",
   "metadata": {},
   "source": [
    "##*2. Important Attributes*"
   ]
  },
  {
   "cell_type": "code",
   "execution_count": 51,
   "id": "68c780ff",
   "metadata": {},
   "outputs": [
    {
     "name": "stdout",
     "output_type": "stream",
     "text": [
      "Array:\n",
      " [[1 2 3]\n",
      " [4 5 6]]\n",
      "ndim (dimensions): 2\n",
      "shape (rows, cols): (2, 3)\n",
      "size (total elements): 6\n",
      "dtype (data type): int64\n"
     ]
    }
   ],
   "source": [
    "arr = np.array([[1, 2, 3], [4, 5, 6]])\n",
    "\n",
    "print(\"Array:\\n\", arr)\n",
    "\n",
    "print(\"ndim (dimensions):\", arr.ndim)   # 2D array\n",
    "print(\"shape (rows, cols):\", arr.shape) # (2, 3)\n",
    "print(\"size (total elements):\", arr.size) # 6\n",
    "print(\"dtype (data type):\", arr.dtype) # int64 (system dependent)"
   ]
  },
  {
   "cell_type": "markdown",
   "id": "f8a879c1",
   "metadata": {},
   "source": [
    "##*Mathemaical operations*\n"
   ]
  },
  {
   "cell_type": "code",
   "execution_count": 52,
   "id": "dbd76cd1",
   "metadata": {},
   "outputs": [
    {
     "name": "stdout",
     "output_type": "stream",
     "text": [
      "[5 7 9]\n",
      "[-3 -3 -3]\n",
      "[ 4 10 18]\n",
      "[0.25 0.4  0.5 ]\n",
      "[1 4 9]\n"
     ]
    }
   ],
   "source": [
    "a = np.array([1,2,3])\n",
    "b = np.array([4,5,6])\n",
    "\n",
    "print(a + b)  # [5 7 9]\n",
    "print(a - b)  # [-3 -3 -3]\n",
    "print(a * b)  # [4 10 18]\n",
    "print(a / b)  # [0.25 0.4  0.5]\n",
    "print(a ** 2) # [1 4 9]\n"
   ]
  },
  {
   "cell_type": "markdown",
   "id": "1f95f880",
   "metadata": {},
   "source": [
    "##*Aggregate Functions*"
   ]
  },
  {
   "cell_type": "code",
   "execution_count": 55,
   "id": "6f3b98b6",
   "metadata": {},
   "outputs": [
    {
     "name": "stdout",
     "output_type": "stream",
     "text": [
      "Sum: 21\n",
      "Max: 6\n",
      "Min: 1\n",
      "Mean: 3.5\n",
      "Standard Deviation: 1.707825127659933\n",
      "Median: 3.5\n"
     ]
    }
   ],
   "source": [
    "arr = np.array([1,2,3,4,5,6])\n",
    "\n",
    "print(\"Sum:\", arr.sum())        # 15\n",
    "print(\"Max:\", arr.max())        # 5\n",
    "print(\"Min:\", arr.min())        # 1\n",
    "print(\"Mean:\", arr.mean())      # 3.0\n",
    "print(\"Standard Deviation:\", arr.std())  # 1.41\n",
    "print(\"Median:\", np.median(arr)) # 3.0"
   ]
  },
  {
   "cell_type": "code",
   "execution_count": 58,
   "id": "aadf1182",
   "metadata": {},
   "outputs": [
    {
     "name": "stdout",
     "output_type": "stream",
     "text": [
      "[[1 2]\n",
      " [3 4]\n",
      " [5 6]]\n"
     ]
    }
   ],
   "source": [
    "reshaped = arr.reshape(3,2)\n",
    "print(reshaped)"
   ]
  },
  {
   "cell_type": "code",
   "execution_count": 59,
   "id": "c0385a71",
   "metadata": {},
   "outputs": [
    {
     "name": "stdout",
     "output_type": "stream",
     "text": [
      "[1 2 3 4 5 6]\n"
     ]
    }
   ],
   "source": [
    "flattend = reshaped.flatten()\n",
    "print(flattend)"
   ]
  },
  {
   "cell_type": "code",
   "execution_count": 61,
   "id": "50f93752",
   "metadata": {},
   "outputs": [
    {
     "data": {
      "text/plain": [
       "array([1, 1, 7, 3], dtype=int32)"
      ]
     },
     "execution_count": 61,
     "metadata": {},
     "output_type": "execute_result"
    }
   ],
   "source": [
    "np.random.randint(1,10,size=4)"
   ]
  },
  {
   "cell_type": "code",
   "execution_count": 62,
   "id": "22de659c",
   "metadata": {},
   "outputs": [
    {
     "data": {
      "text/plain": [
       "array([0.06330523, 0.98304613, 0.23812613])"
      ]
     },
     "execution_count": 62,
     "metadata": {},
     "output_type": "execute_result"
    }
   ],
   "source": [
    "np.random.rand(3)"
   ]
  },
  {
   "cell_type": "code",
   "execution_count": 65,
   "id": "7fb92b90",
   "metadata": {},
   "outputs": [
    {
     "data": {
      "text/plain": [
       "array([[0.24067073, 0.18706498, 0.99813511],\n",
       "       [0.24343258, 0.60445806, 0.49395166]])"
      ]
     },
     "execution_count": 65,
     "metadata": {},
     "output_type": "execute_result"
    }
   ],
   "source": [
    "np.random.rand(2,3)"
   ]
  },
  {
   "cell_type": "code",
   "execution_count": 67,
   "id": "47c4a794",
   "metadata": {},
   "outputs": [
    {
     "name": "stdout",
     "output_type": "stream",
     "text": [
      "[1 2 3 4 5 6]\n",
      "[array([1, 2]), array([3, 4]), array([5, 6])]\n"
     ]
    }
   ],
   "source": [
    "x = np.array([1,2,3])\n",
    "y = np.array([4,5,6])\n",
    "c=np.concatenate([x,y])\n",
    "print(c)\n",
    "d=np.array_split(c,3)\n",
    "print(d)"
   ]
  }
 ],
 "metadata": {
  "kernelspec": {
   "display_name": "Python 3",
   "language": "python",
   "name": "python3"
  },
  "language_info": {
   "codemirror_mode": {
    "name": "ipython",
    "version": 3
   },
   "file_extension": ".py",
   "mimetype": "text/x-python",
   "name": "python",
   "nbconvert_exporter": "python",
   "pygments_lexer": "ipython3",
   "version": "3.13.3"
  }
 },
 "nbformat": 4,
 "nbformat_minor": 5
}
