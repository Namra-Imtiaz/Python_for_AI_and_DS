{
 "cells": [
  {
   "cell_type": "code",
   "execution_count": 2,
   "id": "f352f76a",
   "metadata": {},
   "outputs": [],
   "source": [
    "import pandas as pd\n",
    "homelessness=pd.read_csv('data.csv',index_col=0)"
   ]
  },
  {
   "cell_type": "code",
   "execution_count": 3,
   "id": "c91e3d61",
   "metadata": {},
   "outputs": [
    {
     "name": "stdout",
     "output_type": "stream",
     "text": [
      "     country capital  population\n",
      "BR    brazil       a           1\n",
      "RU    russia       b           2\n",
      "IN     india       c           3\n",
      "PA  pakistan       d           4\n",
      "<class 'pandas.core.frame.DataFrame'>\n",
      "Index: 4 entries, BR to PA\n",
      "Data columns (total 3 columns):\n",
      " #   Column      Non-Null Count  Dtype \n",
      "---  ------      --------------  ----- \n",
      " 0   country     4 non-null      object\n",
      " 1   capital     4 non-null      object\n",
      " 2   population  4 non-null      int64 \n",
      "dtypes: int64(1), object(2)\n",
      "memory usage: 128.0+ bytes\n",
      "None\n",
      "(4, 3)\n",
      "       population\n",
      "count    4.000000\n",
      "mean     2.500000\n",
      "std      1.290994\n",
      "min      1.000000\n",
      "25%      1.750000\n",
      "50%      2.500000\n",
      "75%      3.250000\n",
      "max      4.000000\n",
      "[['brazil' 'a' 1]\n",
      " ['russia' 'b' 2]\n",
      " ['india' 'c' 3]\n",
      " ['pakistan' 'd' 4]]\n",
      "Index(['country', 'capital', 'population'], dtype='object')\n",
      "Index(['BR', 'RU', 'IN', 'PA'], dtype='object')\n"
     ]
    }
   ],
   "source": [
    "print(homelessness.head())  #starting some rows of data \n",
    "print(homelessness.info())  #datatypes,missing values,column names\n",
    "print(homelessness.shape)   #rows and columns of data\n",
    "print(homelessness.describe()) #summary stats of the data like min,median,mode,std,25%,50%,75%\n",
    "print(homelessness.values)  #data ke values in 2d array\n",
    "print(homelessness.columns) #column names\n",
    "print(homelessness.index)  #rows index or name"
   ]
  },
  {
   "cell_type": "code",
   "execution_count": 4,
   "id": "6b5f1bee",
   "metadata": {},
   "outputs": [
    {
     "name": "stdout",
     "output_type": "stream",
     "text": [
      "     country capital  population\n",
      "BR    brazil       a           1\n",
      "RU    russia       b           2\n",
      "IN     india       c           3\n",
      "PA  pakistan       d           4\n",
      "<class 'pandas.core.frame.DataFrame'>\n",
      "Index: 4 entries, BR to PA\n",
      "Data columns (total 3 columns):\n",
      " #   Column      Non-Null Count  Dtype \n",
      "---  ------      --------------  ----- \n",
      " 0   country     4 non-null      object\n",
      " 1   capital     4 non-null      object\n",
      " 2   population  4 non-null      int64 \n",
      "dtypes: int64(1), object(2)\n",
      "memory usage: 128.0+ bytes\n",
      "None\n",
      "(4, 3)\n",
      "       population\n",
      "count    4.000000\n",
      "mean     2.500000\n",
      "std      1.290994\n",
      "min      1.000000\n",
      "25%      1.750000\n",
      "50%      2.500000\n",
      "75%      3.250000\n",
      "max      4.000000\n",
      "[['brazil' 'a' 1]\n",
      " ['russia' 'b' 2]\n",
      " ['india' 'c' 3]\n",
      " ['pakistan' 'd' 4]]\n",
      "Index(['country', 'capital', 'population'], dtype='object')\n",
      "Index(['BR', 'RU', 'IN', 'PA'], dtype='object')\n"
     ]
    }
   ],
   "source": [
    "# Print the head of the homelessness data\n",
    "print(homelessness.head())\n",
    "\n",
    "# Print information about homelessness\n",
    "print(homelessness.info())\n",
    "\n",
    "# Print the shape of homelessness\n",
    "print(homelessness.shape)\n",
    "\n",
    "# Print a description of homelessness\n",
    "print(homelessness.describe())\n",
    "\n",
    "# Import pandas using the alias pd\n",
    "import pandas as pd\n",
    "\n",
    "# Print the values of homelessness\n",
    "print(homelessness.values)\n",
    "\n",
    "# Print the column index of homelessness\n",
    "print(homelessness.columns)\n",
    "\n",
    "# Print the row index of homelessness\n",
    "print(homelessness.index)"
   ]
  },
  {
   "cell_type": "code",
   "execution_count": 6,
   "id": "6b7901a2",
   "metadata": {},
   "outputs": [
    {
     "name": "stdout",
     "output_type": "stream",
     "text": [
      "     country capital  population  total  p_homeless\n",
      "BR    brazil       a           1      2         2.0\n",
      "RU    russia       b           2      4         2.0\n",
      "IN     india       c           3      6         2.0\n",
      "PA  pakistan       d           4      8         2.0\n"
     ]
    }
   ],
   "source": [
    "# Add a column to homelessness with the sum of individuals and family_members\n",
    "homelessness['total'] = (homelessness['population'])+(homelessness['population'])\n",
    "\n",
    "# Add a column with the proportion of total homeless to the state population\n",
    "homelessness['p_homeless'] =(homelessness['total'])/(homelessness['population'])\n",
    "\n",
    "# Print the updated DataFrame\n",
    "print(homelessness)"
   ]
  }
 ],
 "metadata": {
  "kernelspec": {
   "display_name": "Python 3",
   "language": "python",
   "name": "python3"
  },
  "language_info": {
   "codemirror_mode": {
    "name": "ipython",
    "version": 3
   },
   "file_extension": ".py",
   "mimetype": "text/x-python",
   "name": "python",
   "nbconvert_exporter": "python",
   "pygments_lexer": "ipython3",
   "version": "3.13.3"
  }
 },
 "nbformat": 4,
 "nbformat_minor": 5
}
